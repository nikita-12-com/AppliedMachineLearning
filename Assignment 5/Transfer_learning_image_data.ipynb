{
  "nbformat": 4,
  "nbformat_minor": 0,
  "metadata": {
    "colab": {
      "provenance": [],
      "gpuType": "T4"
    },
    "kernelspec": {
      "name": "python3",
      "display_name": "Python 3"
    },
    "language_info": {
      "name": "python"
    },
    "accelerator": "GPU"
  },
  "cells": [
    {
      "cell_type": "code",
      "source": [
        "from google.colab import drive\n",
        "drive.mount('/content/drive')"
      ],
      "metadata": {
        "id": "CR8QT93wi7lo"
      },
      "execution_count": null,
      "outputs": []
    },
    {
      "cell_type": "markdown",
      "source": [
        "# Importing libraries"
      ],
      "metadata": {
        "id": "qF3GgWJSlBbY"
      }
    },
    {
      "cell_type": "code",
      "source": [
        "import os\n",
        "import shutil\n",
        "import torch\n",
        "from torchvision import datasets, transforms, models\n",
        "from torch.utils.data import DataLoader\n",
        "import torch.nn as nn\n",
        "import torch.optim as optim\n",
        "from sklearn.metrics import classification_report"
      ],
      "metadata": {
        "id": "uySVYjPPlD35"
      },
      "execution_count": 17,
      "outputs": []
    },
    {
      "cell_type": "code",
      "source": [
        "# Downloaded data from \"https://www.kaggle.com/datasets/roudranildas/chicken-images-classification-dataset\"\n",
        "\n",
        "# Preparing folders for ImageFolder\n",
        "root = 'dataset'\n",
        "categories = ['chicken-images', 'duck-images']\n",
        "splits = ['train', 'val', 'test']\n",
        "\n",
        "for split in splits:\n",
        "    for folder_name in categories:\n",
        "        src = f'/content/drive/MyDrive/CMI/data/{folder_name}/data/{split}'\n",
        "        dest = f'/content/drive/MyDrive/CMI/{root}/{split}/{folder_name.split(\"-\")[0]}'\n",
        "        os.makedirs(dest, exist_ok=True)\n",
        "\n",
        "        for img_file in os.listdir(src):\n",
        "            full_path = os.path.join(src, img_file)\n",
        "            if os.path.isfile(full_path):\n",
        "                shutil.copy(full_path, dest)"
      ],
      "metadata": {
        "id": "yFQBlTRqN70g"
      },
      "execution_count": 18,
      "outputs": []
    },
    {
      "cell_type": "code",
      "source": [
        "%cd /content/drive/MyDrive/CMI/"
      ],
      "metadata": {
        "colab": {
          "base_uri": "https://localhost:8080/"
        },
        "id": "1a8d4AnPSlV-",
        "outputId": "30cda44a-d697-4a59-acf0-b6a20607f2ab"
      },
      "execution_count": 19,
      "outputs": [
        {
          "output_type": "stream",
          "name": "stdout",
          "text": [
            "/content/drive/MyDrive/CMI\n"
          ]
        }
      ]
    },
    {
      "cell_type": "code",
      "source": [
        "transform = transforms.Compose([\n",
        "    transforms.Resize((224, 224)),\n",
        "    transforms.ToTensor(),\n",
        "    transforms.Normalize([0.485, 0.456, 0.406],\n",
        "                         [0.229, 0.224, 0.225])\n",
        "])\n",
        "\n",
        "train = datasets.ImageFolder('dataset/train', transform = transform)\n",
        "val = datasets.ImageFolder('dataset/val', transform = transform)\n",
        "test = datasets.ImageFolder('dataset/test', transform = transform)\n",
        "\n",
        "train_loader = DataLoader(train, batch_size = 32, shuffle=True)\n",
        "val_loader = DataLoader(val, batch_size = 32, shuffle=False)\n",
        "test_loader = DataLoader(test, batch_size = 32, shuffle=False)\n",
        "\n",
        "class_names = train.classes\n",
        "print(\"Classes:\", class_names)"
      ],
      "metadata": {
        "colab": {
          "base_uri": "https://localhost:8080/"
        },
        "id": "q0LTcHzWSW2C",
        "outputId": "4eda74d5-3182-4d86-cb37-00c392a72e74"
      },
      "execution_count": 20,
      "outputs": [
        {
          "output_type": "stream",
          "name": "stdout",
          "text": [
            "Classes: ['chicken', 'duck']\n"
          ]
        }
      ]
    },
    {
      "cell_type": "code",
      "source": [
        "# Setting up the device\n",
        "from torch import cuda\n",
        "device = 'cuda' if cuda.is_available() else 'cpu'\n",
        "print(\"Device:\", device)"
      ],
      "metadata": {
        "colab": {
          "base_uri": "https://localhost:8080/"
        },
        "id": "6EQ5bRaxHoi3",
        "outputId": "65f5c5c3-6915-40ba-93a6-94c981827f81"
      },
      "execution_count": 21,
      "outputs": [
        {
          "output_type": "stream",
          "name": "stdout",
          "text": [
            "Device: cpu\n"
          ]
        }
      ]
    },
    {
      "cell_type": "markdown",
      "source": [
        "# Finetuning the model using Resnet18"
      ],
      "metadata": {
        "id": "364ski2_JDEP"
      }
    },
    {
      "cell_type": "code",
      "source": [
        "model = models.resnet18(pretrained=True)\n",
        "for param in model.parameters():\n",
        "    param.requires_grad = False\n",
        "\n",
        "model.fc = nn.Linear(model.fc.in_features, 2)\n",
        "model = model.to(device)\n",
        "\n",
        "criterion = nn.CrossEntropyLoss()\n",
        "optimizer = optim.Adam(model.fc.parameters(), lr = 0.001)"
      ],
      "metadata": {
        "colab": {
          "base_uri": "https://localhost:8080/"
        },
        "id": "xfYgkZT9StH4",
        "outputId": "7aa5096f-c7b7-42ee-ac92-158e3eeb0697"
      },
      "execution_count": 22,
      "outputs": [
        {
          "output_type": "stream",
          "name": "stderr",
          "text": [
            "/usr/local/lib/python3.11/dist-packages/torchvision/models/_utils.py:208: UserWarning: The parameter 'pretrained' is deprecated since 0.13 and may be removed in the future, please use 'weights' instead.\n",
            "  warnings.warn(\n",
            "/usr/local/lib/python3.11/dist-packages/torchvision/models/_utils.py:223: UserWarning: Arguments other than a weight enum or `None` for 'weights' are deprecated since 0.13 and may be removed in the future. The current behavior is equivalent to passing `weights=ResNet18_Weights.IMAGENET1K_V1`. You can also use `weights=ResNet18_Weights.DEFAULT` to get the most up-to-date weights.\n",
            "  warnings.warn(msg)\n"
          ]
        }
      ]
    },
    {
      "cell_type": "markdown",
      "source": [
        "## Classification report before training"
      ],
      "metadata": {
        "id": "qKvyAfEdsvxs"
      }
    },
    {
      "cell_type": "code",
      "source": [
        "model.eval()\n",
        "all_preds = []\n",
        "all_labels = []\n",
        "\n",
        "with torch.no_grad():\n",
        "    for inputs, labels in test_loader:\n",
        "        inputs = inputs.to(device)\n",
        "        outputs = model(inputs)\n",
        "        preds = torch.argmax(outputs, 1).cpu().numpy()\n",
        "        all_preds.extend(preds)\n",
        "        all_labels.extend(labels.numpy())\n",
        "\n",
        "print(classification_report(all_labels, all_preds, target_names=class_names))"
      ],
      "metadata": {
        "colab": {
          "base_uri": "https://localhost:8080/"
        },
        "id": "lTkJwZMkTjOm",
        "outputId": "44c6ade4-f4b4-4d28-d9ab-ada9a2eee6bb"
      },
      "execution_count": 23,
      "outputs": [
        {
          "output_type": "stream",
          "name": "stdout",
          "text": [
            "              precision    recall  f1-score   support\n",
            "\n",
            "     chicken       0.21      0.20      0.21       172\n",
            "        duck       0.56      0.57      0.57       310\n",
            "\n",
            "    accuracy                           0.44       482\n",
            "   macro avg       0.38      0.39      0.39       482\n",
            "weighted avg       0.44      0.44      0.44       482\n",
            "\n"
          ]
        }
      ]
    },
    {
      "cell_type": "code",
      "source": [
        "epochs = 5\n",
        "for epoch in range(epochs):\n",
        "    model.train()\n",
        "    running_loss = 0.0\n",
        "    for inputs, labels in train_loader:\n",
        "        inputs, labels = inputs.to(device), labels.to(device)\n",
        "\n",
        "        optimizer.zero_grad()\n",
        "        outputs = model(inputs)\n",
        "        loss = criterion(outputs, labels)\n",
        "        loss.backward()\n",
        "        optimizer.step()\n",
        "\n",
        "        running_loss += loss.item()\n",
        "\n",
        "    print(f\"Epoch {epoch+1}/{epochs}, Loss: {running_loss/len(train_loader):.4f}\")"
      ],
      "metadata": {
        "colab": {
          "base_uri": "https://localhost:8080/"
        },
        "id": "R_FVoQXjS81G",
        "outputId": "95af5c05-ac09-4ab4-b486-43ab003d2e98"
      },
      "execution_count": 24,
      "outputs": [
        {
          "output_type": "stream",
          "name": "stdout",
          "text": [
            "Epoch 1/5, Loss: 0.4089\n",
            "Epoch 2/5, Loss: 0.1922\n",
            "Epoch 3/5, Loss: 0.1660\n",
            "Epoch 4/5, Loss: 0.1476\n",
            "Epoch 5/5, Loss: 0.2013\n"
          ]
        }
      ]
    },
    {
      "cell_type": "code",
      "source": [
        "model.eval()\n",
        "all_preds = []\n",
        "all_labels = []\n",
        "\n",
        "with torch.no_grad():\n",
        "    for inputs, labels in test_loader:\n",
        "        inputs = inputs.to(device)\n",
        "        outputs = model(inputs)\n",
        "        preds = torch.argmax(outputs, 1).cpu().numpy()\n",
        "        all_preds.extend(preds)\n",
        "        all_labels.extend(labels.numpy())"
      ],
      "metadata": {
        "id": "YVGE5F8ATHLJ"
      },
      "execution_count": 25,
      "outputs": []
    },
    {
      "cell_type": "markdown",
      "source": [
        "## Classification report after training"
      ],
      "metadata": {
        "id": "-hHenOugJcOa"
      }
    },
    {
      "cell_type": "code",
      "source": [
        "print(\"Classification report: \")\n",
        "print(classification_report(all_labels, all_preds, target_names=class_names))"
      ],
      "metadata": {
        "colab": {
          "base_uri": "https://localhost:8080/"
        },
        "id": "HN10b8wyJe08",
        "outputId": "79239013-50ca-43eb-c2eb-ee9d7df37e72"
      },
      "execution_count": 26,
      "outputs": [
        {
          "output_type": "stream",
          "name": "stdout",
          "text": [
            "Classification report: \n",
            "              precision    recall  f1-score   support\n",
            "\n",
            "     chicken       0.94      0.95      0.95       172\n",
            "        duck       0.97      0.96      0.97       310\n",
            "\n",
            "    accuracy                           0.96       482\n",
            "   macro avg       0.96      0.96      0.96       482\n",
            "weighted avg       0.96      0.96      0.96       482\n",
            "\n"
          ]
        }
      ]
    }
  ]
}