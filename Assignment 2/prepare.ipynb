{
 "cells": [
  {
   "cell_type": "markdown",
   "id": "935608c4-907b-4e96-9a0b-9440e6d0ac8b",
   "metadata": {},
   "source": [
    "# Importing libraries"
   ]
  },
  {
   "cell_type": "code",
   "execution_count": 121,
   "id": "398c88fe-a61a-4a8f-b81a-4bb93740abaf",
   "metadata": {
    "scrolled": true
   },
   "outputs": [],
   "source": [
    "# Import libraries\n",
    "import csv\n",
    "import pandas as pd\n",
    "import sklearn\n",
    "import numpy as np\n",
    "import nltk\n",
    "import matplotlib.pyplot as plt\n",
    "import seaborn as sns; sns.set_theme()\n",
    "from sklearn.model_selection import train_test_split"
   ]
  },
  {
   "cell_type": "markdown",
   "id": "044939e0-ef3b-44e2-8017-5b1179016a65",
   "metadata": {},
   "source": [
    "# Load the dataset"
   ]
  },
  {
   "cell_type": "code",
   "execution_count": 122,
   "id": "8bcde181-d661-4ca9-9a66-3b5c05f9a20a",
   "metadata": {},
   "outputs": [],
   "source": [
    "# Load the dataset\n",
    "\n",
    "data = pd.read_csv(\"./data/SMSSpamCollection\",sep='\\t', quoting=csv.QUOTE_NONE,\n",
    "                           names=[\"class\", \"sms\"])"
   ]
  },
  {
   "cell_type": "code",
   "execution_count": 123,
   "id": "dae668c8-4d46-496a-a05d-c03b8c172e18",
   "metadata": {},
   "outputs": [
    {
     "data": {
      "text/html": [
       "<div>\n",
       "<style scoped>\n",
       "    .dataframe tbody tr th:only-of-type {\n",
       "        vertical-align: middle;\n",
       "    }\n",
       "\n",
       "    .dataframe tbody tr th {\n",
       "        vertical-align: top;\n",
       "    }\n",
       "\n",
       "    .dataframe thead th {\n",
       "        text-align: right;\n",
       "    }\n",
       "</style>\n",
       "<table border=\"1\" class=\"dataframe\">\n",
       "  <thead>\n",
       "    <tr style=\"text-align: right;\">\n",
       "      <th></th>\n",
       "      <th>class</th>\n",
       "      <th>sms</th>\n",
       "    </tr>\n",
       "  </thead>\n",
       "  <tbody>\n",
       "    <tr>\n",
       "      <th>0</th>\n",
       "      <td>ham</td>\n",
       "      <td>Go until jurong point, crazy.. Available only ...</td>\n",
       "    </tr>\n",
       "    <tr>\n",
       "      <th>1</th>\n",
       "      <td>ham</td>\n",
       "      <td>Ok lar... Joking wif u oni...</td>\n",
       "    </tr>\n",
       "    <tr>\n",
       "      <th>2</th>\n",
       "      <td>spam</td>\n",
       "      <td>Free entry in 2 a wkly comp to win FA Cup fina...</td>\n",
       "    </tr>\n",
       "    <tr>\n",
       "      <th>3</th>\n",
       "      <td>ham</td>\n",
       "      <td>U dun say so early hor... U c already then say...</td>\n",
       "    </tr>\n",
       "    <tr>\n",
       "      <th>4</th>\n",
       "      <td>ham</td>\n",
       "      <td>Nah I don't think he goes to usf, he lives aro...</td>\n",
       "    </tr>\n",
       "  </tbody>\n",
       "</table>\n",
       "</div>"
      ],
      "text/plain": [
       "  class                                                sms\n",
       "0   ham  Go until jurong point, crazy.. Available only ...\n",
       "1   ham                      Ok lar... Joking wif u oni...\n",
       "2  spam  Free entry in 2 a wkly comp to win FA Cup fina...\n",
       "3   ham  U dun say so early hor... U c already then say...\n",
       "4   ham  Nah I don't think he goes to usf, he lives aro..."
      ]
     },
     "execution_count": 123,
     "metadata": {},
     "output_type": "execute_result"
    }
   ],
   "source": [
    "data.head()"
   ]
  },
  {
   "cell_type": "code",
   "execution_count": 124,
   "id": "050004e4-fd9b-440e-a39a-293e84abd918",
   "metadata": {},
   "outputs": [
    {
     "data": {
      "text/html": [
       "<div>\n",
       "<style scoped>\n",
       "    .dataframe tbody tr th:only-of-type {\n",
       "        vertical-align: middle;\n",
       "    }\n",
       "\n",
       "    .dataframe tbody tr th {\n",
       "        vertical-align: top;\n",
       "    }\n",
       "\n",
       "    .dataframe thead tr th {\n",
       "        text-align: left;\n",
       "    }\n",
       "\n",
       "    .dataframe thead tr:last-of-type th {\n",
       "        text-align: right;\n",
       "    }\n",
       "</style>\n",
       "<table border=\"1\" class=\"dataframe\">\n",
       "  <thead>\n",
       "    <tr>\n",
       "      <th></th>\n",
       "      <th colspan=\"4\" halign=\"left\">sms</th>\n",
       "    </tr>\n",
       "    <tr>\n",
       "      <th></th>\n",
       "      <th>count</th>\n",
       "      <th>unique</th>\n",
       "      <th>top</th>\n",
       "      <th>freq</th>\n",
       "    </tr>\n",
       "    <tr>\n",
       "      <th>class</th>\n",
       "      <th></th>\n",
       "      <th></th>\n",
       "      <th></th>\n",
       "      <th></th>\n",
       "    </tr>\n",
       "  </thead>\n",
       "  <tbody>\n",
       "    <tr>\n",
       "      <th>ham</th>\n",
       "      <td>4827</td>\n",
       "      <td>4518</td>\n",
       "      <td>Sorry, I'll call later</td>\n",
       "      <td>30</td>\n",
       "    </tr>\n",
       "    <tr>\n",
       "      <th>spam</th>\n",
       "      <td>747</td>\n",
       "      <td>653</td>\n",
       "      <td>Please call our customer service representativ...</td>\n",
       "      <td>4</td>\n",
       "    </tr>\n",
       "  </tbody>\n",
       "</table>\n",
       "</div>"
      ],
      "text/plain": [
       "        sms                                                               \n",
       "      count unique                                                top freq\n",
       "class                                                                     \n",
       "ham    4827   4518                             Sorry, I'll call later   30\n",
       "spam    747    653  Please call our customer service representativ...    4"
      ]
     },
     "execution_count": 124,
     "metadata": {},
     "output_type": "execute_result"
    }
   ],
   "source": [
    "# some statistics\n",
    "data.groupby('class').describe()"
   ]
  },
  {
   "cell_type": "code",
   "execution_count": 125,
   "id": "06137b3a-6be0-425e-966b-72a1d0388c9d",
   "metadata": {},
   "outputs": [
    {
     "data": {
      "text/plain": [
       "array([<Axes: title={'center': 'ham'}>, <Axes: title={'center': 'spam'}>],\n",
       "      dtype=object)"
      ]
     },
     "execution_count": 125,
     "metadata": {},
     "output_type": "execute_result"
    },
    {
     "data": {
      "image/png": "[encoded data removed]",
      "text/plain": [
       "<Figure size 640x480 with 2 Axes>"
      ]
     },
     "metadata": {},
     "output_type": "display_data"
    }
   ],
   "source": [
    "## Distribution of length of sms for spam and ham\n",
    "data['length'] = data['sms'].map(lambda text: len(text))\n",
    "data.hist(column='length', by='class', bins=50)"
   ]
  },
  {
   "cell_type": "markdown",
   "id": "3f096c7e-2dc5-4872-8807-fe264a860303",
   "metadata": {},
   "source": [
    "## Storing the raw_data"
   ]
  },
  {
   "cell_type": "markdown",
   "id": "5f470f8a-bc47-4b9e-88dc-f54ddc6d4b02",
   "metadata": {},
   "source": [
    "data.to_csv('data/raw_data.csv', index = False)"
   ]
  },
  {
   "cell_type": "markdown",
   "id": "74c51c55-9a12-41ff-9813-77349ab8a160",
   "metadata": {},
   "source": [
    "# Split the dataset"
   ]
  },
  {
   "cell_type": "code",
   "execution_count": 12,
   "id": "315603c9-66c6-4667-9777-12db24574285",
   "metadata": {},
   "outputs": [],
   "source": [
    "# Split dataset\n",
    "train, temp = train_test_split(data, test_size = 0.3, random_state = 1234)\n",
    "val, test = train_test_split(temp, test_size = 0.5, random_state = 1234)"
   ]
  },
  {
   "cell_type": "code",
   "execution_count": 19,
   "id": "b6e36d0a-019a-4903-b959-bc09379de9dc",
   "metadata": {},
   "outputs": [],
   "source": [
    "# storing the split data\n",
    "train.to_csv('data/train.csv', index = False)\n",
    "val.to_csv('data/validation.csv', index = False)\n",
    "test.to_csv('data/test.csv', index = False)"
   ]
  },
  {
   "cell_type": "code",
   "execution_count": 17,
   "id": "a42a3c2b-c2aa-4e3c-99ea-34ad514570e8",
   "metadata": {
    "scrolled": true
   },
   "outputs": [
    {
     "name": "stdout",
     "output_type": "stream",
     "text": [
      "Initialized DVC repository.\n",
      "\n",
      "You can now commit the changes to git.\n",
      "\n",
      "+---------------------------------------------------------------------+\n",
      "|                                                                     |\n",
      "|        DVC has enabled anonymous aggregate usage analytics.         |\n",
      "|     Read the analytics documentation (and how to opt-out) here:     |\n",
      "|             <https://dvc.org/doc/user-guide/analytics>              |\n",
      "|                                                                     |\n",
      "+---------------------------------------------------------------------+\n",
      "\n",
      "What's next?\n",
      "------------\n",
      "- Check out the documentation: <https://dvc.org/doc>\n",
      "- Get help and share ideas: <https://dvc.org/chat>\n",
      "- Star us on GitHub: <https://github.com/iterative/dvc>\n"
     ]
    }
   ],
   "source": [
    "!dvc init --subdir -f"
   ]
  },
  {
   "cell_type": "code",
   "execution_count": 28,
   "id": "10c515a6-717d-4760-bebb-aeb0d4d84217",
   "metadata": {},
   "outputs": [
    {
     "name": "stdout",
     "output_type": "stream",
     "text": [
      "\n",
      "To track the changes with git, run:\n",
      "\n",
      "\tgit add 'data\\validation.csv.dvc' 'data\\.gitignore' 'data\\test.csv.dvc' 'data\\train.csv.dvc'\n",
      "\n",
      "To enable auto staging, run:\n",
      "\n",
      "\tdvc config core.autostage true\n"
     ]
    },
    {
     "name": "stderr",
     "output_type": "stream",
     "text": [
      "\\u280b Checking graph\n",
      "\n"
     ]
    }
   ],
   "source": [
    "!dvc add data/train.csv data/test.csv data/validation.csv"
   ]
  },
  {
   "cell_type": "code",
   "execution_count": 32,
   "id": "82f3f9c0-bd06-45a4-9d8a-db9d39fe0256",
   "metadata": {},
   "outputs": [],
   "source": [
    "!git add data/validation.csv.dvc data/.gitignore data/test.csv.dvc data/train.csv.dvc"
   ]
  },
  {
   "cell_type": "code",
   "execution_count": 33,
   "id": "bf8b7369-db1d-427f-9c87-0b4ae9452a69",
   "metadata": {},
   "outputs": [
    {
     "name": "stdout",
     "output_type": "stream",
     "text": [
      "On branch main\n",
      "Your branch is up to date with 'origin/main'.\n",
      "\n",
      "Changes to be committed:\n",
      "  (use \"git restore --staged <file>...\" to unstage)\n",
      "\tmodified:   data/.gitignore\n",
      "\tnew file:   data/test.csv.dvc\n",
      "\tnew file:   data/train.csv.dvc\n",
      "\tnew file:   data/validation.csv.dvc\n",
      "\n",
      "Changes not staged for commit:\n",
      "  (use \"git add <file>...\" to update what will be committed)\n",
      "  (use \"git restore <file>...\" to discard changes in working directory)\n",
      "\tmodified:   prepare.ipynb\n",
      "\n",
      "Untracked files:\n",
      "  (use \"git add <file>...\" to include in what will be committed)\n",
      "\tdata/raw_data.csv\n",
      "\n"
     ]
    }
   ],
   "source": [
    "! git status"
   ]
  },
  {
   "cell_type": "code",
   "execution_count": 34,
   "id": "f86b3cfa-62fd-445d-8ae7-d95c695bc7c7",
   "metadata": {},
   "outputs": [
    {
     "name": "stdout",
     "output_type": "stream",
     "text": [
      "[main 18f6083] First version of data\n",
      " 4 files changed, 18 insertions(+)\n",
      " create mode 100644 Assignment 2/data/test.csv.dvc\n",
      " create mode 100644 Assignment 2/data/train.csv.dvc\n",
      " create mode 100644 Assignment 2/data/validation.csv.dvc\n"
     ]
    }
   ],
   "source": [
    "! git commit -m \"First version of data\""
   ]
  },
  {
   "cell_type": "code",
   "execution_count": 35,
   "id": "adb5a2fc-4b08-4ed8-bb4a-8d4f410e5a47",
   "metadata": {},
   "outputs": [
    {
     "name": "stderr",
     "output_type": "stream",
     "text": [
      "To https://github.com/nikita-12-com/AppliedMachineLearning.git\n",
      "   7891e99..18f6083  main -> main\n"
     ]
    }
   ],
   "source": [
    "!git push"
   ]
  },
  {
   "cell_type": "markdown",
   "id": "359e2b8b-97a1-4c6b-95ed-3e9e560df0e7",
   "metadata": {},
   "source": [
    "# Updating the split using different random seed"
   ]
  },
  {
   "cell_type": "code",
   "execution_count": 37,
   "id": "a68f2548-3e2f-4746-87ca-98f3f862e719",
   "metadata": {},
   "outputs": [],
   "source": [
    "# Split dataset\n",
    "train, temp = train_test_split(data, test_size = 0.3, random_state = 1)\n",
    "val, test = train_test_split(temp, test_size = 0.5, random_state = 1)"
   ]
  },
  {
   "cell_type": "code",
   "execution_count": 38,
   "id": "802d389a-d769-482f-addb-2ca8ec4c6f6e",
   "metadata": {},
   "outputs": [],
   "source": [
    "# storing the split data\n",
    "train.to_csv('data/train.csv', index = False)\n",
    "val.to_csv('data/validation.csv', index = False)\n",
    "test.to_csv('data/test.csv', index = False)"
   ]
  },
  {
   "cell_type": "code",
   "execution_count": 39,
   "id": "63d3480f-989a-4ed7-98d7-757184649f94",
   "metadata": {},
   "outputs": [
    {
     "name": "stdout",
     "output_type": "stream",
     "text": [
      "data\\SMSSpamCollection.dvc:\n",
      "\tchanged outs:\n",
      "\t\tnot in cache:       data\\SMSSpamCollection\n",
      "data\\test.csv.dvc:\n",
      "\tchanged outs:\n",
      "\t\tmodified:           data\\test.csv\n",
      "data\\train.csv.dvc:\n",
      "\tchanged outs:\n",
      "\t\tmodified:           data\\train.csv\n",
      "data\\validation.csv.dvc:\n",
      "\tchanged outs:\n",
      "\t\tmodified:           data\\validation.csv\n"
     ]
    }
   ],
   "source": [
    "!dvc status"
   ]
  },
  {
   "cell_type": "code",
   "execution_count": 40,
   "id": "bdd42d8d-06e5-402b-9205-17efd635348e",
   "metadata": {},
   "outputs": [
    {
     "name": "stderr",
     "output_type": "stream",
     "text": [
      "\\u280b Checking graph\n",
      "\n"
     ]
    },
    {
     "name": "stdout",
     "output_type": "stream",
     "text": [
      "\n",
      "To track the changes with git, run:\n",
      "\n",
      "\tgit add 'data\\test.csv.dvc' 'data\\validation.csv.dvc' 'data\\train.csv.dvc'\n",
      "\n",
      "To enable auto staging, run:\n",
      "\n",
      "\tdvc config core.autostage true\n"
     ]
    }
   ],
   "source": [
    "!dvc add data/train.csv data/test.csv data/validation.csv"
   ]
  },
  {
   "cell_type": "code",
   "execution_count": 41,
   "id": "3cc57ff6-fcca-4f1f-bced-906d15feb54d",
   "metadata": {},
   "outputs": [],
   "source": [
    "!git add data/validation.csv.dvc data/.gitignore data/test.csv.dvc data/train.csv.dvc"
   ]
  },
  {
   "cell_type": "code",
   "execution_count": 43,
   "id": "492ebddf-72dd-4b0b-91e7-d1f6f3d8208e",
   "metadata": {},
   "outputs": [
    {
     "name": "stdout",
     "output_type": "stream",
     "text": [
      "On branch main\n",
      "Your branch is up to date with 'origin/main'.\n",
      "\n",
      "Changes to be committed:\n",
      "  (use \"git restore --staged <file>...\" to unstage)\n",
      "\tmodified:   data/test.csv.dvc\n",
      "\tmodified:   data/train.csv.dvc\n",
      "\tmodified:   data/validation.csv.dvc\n",
      "\n",
      "Changes not staged for commit:\n",
      "  (use \"git add <file>...\" to update what will be committed)\n",
      "  (use \"git restore <file>...\" to discard changes in working directory)\n",
      "\tmodified:   prepare.ipynb\n",
      "\n",
      "Untracked files:\n",
      "  (use \"git add <file>...\" to include in what will be committed)\n",
      "\tdata/raw_data.csv\n",
      "\n"
     ]
    }
   ],
   "source": [
    "!git status"
   ]
  },
  {
   "cell_type": "code",
   "execution_count": 44,
   "id": "3709fc43-8799-462a-ba03-474113d761a9",
   "metadata": {},
   "outputs": [
    {
     "name": "stdout",
     "output_type": "stream",
     "text": [
      "[main 6cfa908] Second version of data\n",
      " 3 files changed, 6 insertions(+), 6 deletions(-)\n"
     ]
    }
   ],
   "source": [
    "! git commit -m \"Second version of data\""
   ]
  },
  {
   "cell_type": "code",
   "execution_count": 45,
   "id": "2c7a5648-2369-4cc8-89ba-66d25be9c538",
   "metadata": {},
   "outputs": [
    {
     "name": "stderr",
     "output_type": "stream",
     "text": [
      "To https://github.com/nikita-12-com/AppliedMachineLearning.git\n",
      "   18f6083..6cfa908  main -> main\n"
     ]
    }
   ],
   "source": [
    "!git push"
   ]
  },
  {
   "cell_type": "code",
   "execution_count": 47,
   "id": "6e34e3bf-ee6c-465a-8437-7099198b2447",
   "metadata": {},
   "outputs": [
    {
     "name": "stdout",
     "output_type": "stream",
     "text": [
      "commit 6cfa908197b7dc3e1b1ee55d87ce6997d8de035c\n",
      "Author: nikita <nikitadreams100@gmail.com>\n",
      "Date:   Sat Mar 1 13:28:31 2025 +0530\n",
      "\n",
      "    Second version of data\n",
      "\n",
      "commit 18f60831b075098caa56edf2b4813ba14e81044b\n",
      "Author: nikita <nikitadreams100@gmail.com>\n",
      "Date:   Sat Mar 1 13:17:32 2025 +0530\n",
      "\n",
      "    First version of data\n"
     ]
    }
   ],
   "source": [
    "! git log -2"
   ]
  },
  {
   "cell_type": "markdown",
   "id": "29fc4962-fcdc-4230-af95-2c344f6e570d",
   "metadata": {},
   "source": [
    "# Checkout first version"
   ]
  },
  {
   "cell_type": "code",
   "execution_count": 48,
   "id": "9bec710d-9cd2-454d-b4e9-3db56c72357c",
   "metadata": {},
   "outputs": [
    {
     "name": "stderr",
     "output_type": "stream",
     "text": [
      "Updated 3 paths from 914deee\n"
     ]
    }
   ],
   "source": [
    "!git checkout 18f60831b075098caa56edf2b4813ba14e81044b data/train.csv.dvc data/validation.csv.dvc data/test.csv.dvc"
   ]
  },
  {
   "cell_type": "code",
   "execution_count": 49,
   "id": "84c6be01-c1b2-487e-a93b-8f59436c9ad0",
   "metadata": {},
   "outputs": [
    {
     "name": "stdout",
     "output_type": "stream",
     "text": [
      "M       data\\test.csv\n",
      "M       data\\validation.csv\n",
      "M       data\\train.csv\n"
     ]
    }
   ],
   "source": [
    "!dvc checkout"
   ]
  },
  {
   "cell_type": "markdown",
   "id": "430afa66-f6c1-4e5f-879a-891c7725f0f6",
   "metadata": {},
   "source": [
    "## Class distribution of the first version of data"
   ]
  },
  {
   "cell_type": "code",
   "execution_count": 106,
   "id": "b66ee4b3-7ca8-4a65-b864-a33a6dce43e5",
   "metadata": {},
   "outputs": [
    {
     "name": "stdout",
     "output_type": "stream",
     "text": [
      "1st version: Class distribution\n",
      "Training data:\n",
      " class\n",
      "0    3373\n",
      "1     528\n",
      "Name: count, dtype: int64\n",
      "Test data:\n",
      " class\n",
      "0    731\n",
      "1    106\n",
      "Name: count, dtype: int64\n",
      "Validation data:\n",
      " class\n",
      "0    723\n",
      "1    113\n",
      "Name: count, dtype: int64\n"
     ]
    }
   ],
   "source": [
    "train_data = pd.read_csv(\"./data/train.csv\")\n",
    "test_data = pd.read_csv(\"./data/test.csv\")\n",
    "val_data = pd.read_csv(\"./data/validation.csv\")\n",
    "\n",
    "# Encoding the classes of train, test, and validation \n",
    "train_data['class'] = train_data['class'].map({'spam': 1, 'ham': 0})\n",
    "val_data['class'] = val_data['class'].map({'spam': 1, 'ham': 0})\n",
    "test_data['class'] = test_data['class'].map({'spam': 1, 'ham': 0})\n",
    "\n",
    "# Class distribution\n",
    "print(\"1st version: Class distribution\")\n",
    "print(\"Training data:\\n\", train_data['class'].value_counts())\n",
    "print(\"Test data:\\n\", test_data['class'].value_counts())\n",
    "print(\"Validation data:\\n\", val_data['class'].value_counts())"
   ]
  },
  {
   "cell_type": "markdown",
   "id": "96faa564-1e7e-41b1-a5d6-70096b6b1a55",
   "metadata": {},
   "source": [
    "# Checkout second version "
   ]
  },
  {
   "cell_type": "code",
   "execution_count": 114,
   "id": "5dabb955-8da7-4680-a9c4-99a079cdd99f",
   "metadata": {},
   "outputs": [
    {
     "name": "stderr",
     "output_type": "stream",
     "text": [
      "Updated 3 paths from 8a4214b\n"
     ]
    }
   ],
   "source": [
    "!git checkout 6cfa908197b7dc3e1b1ee55d87ce6997d8de035c data/train.csv.dvc data/validation.csv.dvc data/test.csv.dvc"
   ]
  },
  {
   "cell_type": "code",
   "execution_count": 115,
   "id": "2f200518-7b75-407c-8cee-1de2995dd3a9",
   "metadata": {},
   "outputs": [
    {
     "name": "stdout",
     "output_type": "stream",
     "text": [
      "M       data\\train.csv\n",
      "M       data\\validation.csv\n",
      "M       data\\test.csv\n"
     ]
    }
   ],
   "source": [
    "!dvc checkout"
   ]
  },
  {
   "cell_type": "markdown",
   "id": "d2ebf77c-51e2-4306-a884-88c8fce1a51d",
   "metadata": {},
   "source": [
    "## Class distribution of the second version of data"
   ]
  },
  {
   "cell_type": "code",
   "execution_count": 118,
   "id": "5d8f01f2-755c-4452-abca-ad490d9ad013",
   "metadata": {},
   "outputs": [
    {
     "name": "stdout",
     "output_type": "stream",
     "text": [
      "1st version: Class distribution\n",
      "Training data:\n",
      " class\n",
      "0    3376\n",
      "1     525\n",
      "Name: count, dtype: int64\n",
      "Test data:\n",
      " class\n",
      "0    734\n",
      "1    103\n",
      "Name: count, dtype: int64\n",
      "Validation data:\n",
      " class\n",
      "0    717\n",
      "1    119\n",
      "Name: count, dtype: int64\n"
     ]
    }
   ],
   "source": [
    "train_data = pd.read_csv(\"./data/train.csv\")\n",
    "test_data = pd.read_csv(\"./data/test.csv\")\n",
    "val_data = pd.read_csv(\"./data/validation.csv\")\n",
    "\n",
    "# Encoding the classes of train, test, and validation \n",
    "train_data['class'] = train_data['class'].map({'spam': 1, 'ham': 0})\n",
    "val_data['class'] = val_data['class'].map({'spam': 1, 'ham': 0})\n",
    "test_data['class'] = test_data['class'].map({'spam': 1, 'ham': 0})\n",
    "\n",
    "# Class distribution\n",
    "print(\"1st version: Class distribution\")\n",
    "print(\"Training data:\\n\", train_data['class'].value_counts())\n",
    "print(\"Test data:\\n\", test_data['class'].value_counts())\n",
    "print(\"Validation data:\\n\", val_data['class'].value_counts())"
   ]
  }
 ],
 "metadata": {
  "kernelspec": {
   "display_name": "Python 3 (ipykernel)",
   "language": "python",
   "name": "python3"
  },
  "language_info": {
   "codemirror_mode": {
    "name": "ipython",
    "version": 3
   },
   "file_extension": ".py",
   "mimetype": "text/x-python",
   "name": "python",
   "nbconvert_exporter": "python",
   "pygments_lexer": "ipython3",
   "version": "3.10.11"
  }
 },
 "nbformat": 4,
 "nbformat_minor": 5
}
