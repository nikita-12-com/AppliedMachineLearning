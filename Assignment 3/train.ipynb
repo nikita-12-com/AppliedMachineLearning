{
 "cells": [
  {
   "cell_type": "markdown",
   "id": "e336bee3-4fd6-4ddd-96b0-88ded58b0631",
   "metadata": {},
   "source": [
    "# Model version control and experiment tracking"
   ]
  },
  {
   "cell_type": "code",
   "execution_count": 33,
   "id": "cc78a054-fc8a-4fce-ae86-dc56c5469232",
   "metadata": {},
   "outputs": [
    {
     "name": "stderr",
     "output_type": "stream",
     "text": [
      "[nltk_data] Downloading package punkt_tab to\n",
      "[nltk_data]     /Users/prachi/nltk_data...\n",
      "[nltk_data]   Package punkt_tab is already up-to-date!\n",
      "[nltk_data] Downloading package punkt to /Users/prachi/nltk_data...\n",
      "[nltk_data]   Package punkt is already up-to-date!\n",
      "[nltk_data] Downloading package stopwords to\n",
      "[nltk_data]     /Users/prachi/nltk_data...\n",
      "[nltk_data]   Package stopwords is already up-to-date!\n",
      "[nltk_data] Downloading package wordnet to /Users/prachi/nltk_data...\n"
     ]
    }
   ],
   "source": [
    "# Import libraries\n",
    "import csv\n",
    "import pandas as pd\n",
    "import sklearn\n",
    "import nltk\n",
    "import matplotlib.pyplot as plt\n",
    "from sklearn.pipeline import make_pipeline\n",
    "nltk.download('punkt_tab')\n",
    "nltk.download('punkt')\n",
    "from nltk.tokenize import word_tokenize\n",
    "from nltk.corpus import stopwords\n",
    "nltk.download('stopwords')\n",
    "nltk.download('wordnet')\n",
    "import string\n",
    "from sklearn.model_selection import train_test_split\n",
    "from nltk.stem import WordNetLemmatizer\n",
    "from sklearn.feature_extraction.text import CountVectorizer\n",
    "from sklearn.feature_extraction.text import TfidfVectorizer\n",
    "from sklearn.metrics import f1_score, accuracy_score, precision_recall_curve, auc\n",
    "from sklearn.neighbors import KNeighborsClassifier\n",
    "from sklearn.naive_bayes import MultinomialNB\n",
    "from sklearn.svm import SVC\n",
    "from sklearn import metrics"
   ]
  },
  {
   "cell_type": "code",
   "execution_count": 75,
   "id": "242b2438-605c-45c5-86e1-29d20e4f5b92",
   "metadata": {},
   "outputs": [],
   "source": [
    "train_data = pd.read_csv(\"./data/train.csv\")\n",
    "test_data = pd.read_csv(\"./data/test.csv\")\n",
    "val_data = pd.read_csv(\"./data/validation.csv\")\n",
    "\n",
    "X_train = train.drop('class', axis=1)[\"sms\"]\n",
    "y_train = train['class'].map({'ham': 0, 'spam': 1})\n",
    "X_val = val.drop('class', axis=1)[\"sms\"]\n",
    "y_val = val['class'].map({'ham': 0, 'spam': 1})\n",
    "X_test = test.drop('class', axis=1)[\"sms\"]\n",
    "y_test = test['class'].map({'ham': 0, 'spam': 1})"
   ]
  },
  {
   "cell_type": "code",
   "execution_count": 57,
   "id": "27913f73-2967-4ee3-8c90-c4ec8a0fb504",
   "metadata": {},
   "outputs": [
    {
     "data": {
      "text/plain": [
       "0    Dont show yourself. How far. Put new pictures ...\n",
       "1    Dont forget you can place as many FREE Request...\n",
       "2                          K, can that happen tonight?\n",
       "3                         Am slow in using biola's fne\n",
       "4                 Leave it. U will always be ignorant.\n",
       "Name: sms, dtype: object"
      ]
     },
     "execution_count": 57,
     "metadata": {},
     "output_type": "execute_result"
    }
   ],
   "source": [
    "X_train.head()"
   ]
  },
  {
   "cell_type": "markdown",
   "id": "afd23afc-2b50-42c9-94aa-11ed7d31e9a8",
   "metadata": {},
   "source": [
    "# Preprocess the dataset"
   ]
  },
  {
   "cell_type": "code",
   "execution_count": 43,
   "id": "bdb8ebb1-4125-4e14-b9f3-26c88e90d0e1",
   "metadata": {},
   "outputs": [],
   "source": [
    "stop_words = set(stopwords.words('english'))\n",
    "def preprocess_sms(message):\n",
    "    global stop_words\n",
    "    # message = message.lower() #converting to lowercase\n",
    "    message = message.translate(str.maketrans('', '', string.punctuation)) # remove punctuation\n",
    "    words = word_tokenize(message) #tokenize\n",
    "    words = [word for word in words if word.isalnum() and word not in stop_words]\n",
    "    lemmatizer = WordNetLemmatizer()\n",
    "    words = [lemmatizer.lemmatize(word) for word in words]\n",
    "    return words"
   ]
  },
  {
   "cell_type": "code",
   "execution_count": 87,
   "id": "e16e001e-d635-4161-a993-a243ca01057c",
   "metadata": {},
   "outputs": [],
   "source": [
    "## k-NN \n",
    "knn = make_pipeline(CountVectorizer(), KNeighborsClassifier())\n",
    "knn.fit(X_train, y_train)\n",
    "\n",
    "# Val predictions\n",
    "y_val_predict = knn.predict(X_val)\n"
   ]
  },
  {
   "cell_type": "code",
   "execution_count": 88,
   "id": "0676aed3-c72a-41b3-8db9-365f93850ab8",
   "metadata": {},
   "outputs": [
    {
     "name": "stdout",
     "output_type": "stream",
     "text": [
      "Accuracy for validation data for k-NN: 0.9126794258373205\n",
      "Confusion Matrix:\n",
      "[[722   1]\n",
      " [ 72  41]]\n"
     ]
    },
    {
     "data": {
      "image/png": "[encoded data removed]",
      "text/plain": [
       "<Figure size 640x480 with 2 Axes>"
      ]
     },
     "metadata": {},
     "output_type": "display_data"
    },
    {
     "name": "stdout",
     "output_type": "stream",
     "text": [
      "False Positive Rate: 0.13831258644536654%\n",
      "              precision    recall  f1-score   support\n",
      "\n",
      "           0       0.91      1.00      0.95       723\n",
      "           1       0.98      0.36      0.53       113\n",
      "\n",
      "    accuracy                           0.91       836\n",
      "   macro avg       0.94      0.68      0.74       836\n",
      "weighted avg       0.92      0.91      0.89       836\n",
      "\n"
     ]
    }
   ],
   "source": [
    "accuracy_val = accuracy_score(y_val, y_val_predict)\n",
    "print(f\"Accuracy for validation data for k-NN: {accuracy_val}\")\n",
    "\n",
    "con_matrix_val = confusion_matrix(y_val, y_val_predict)\n",
    "print('Confusion Matrix:')\n",
    "print(con_matrix_val)\n",
    "\n",
    "sns.heatmap(con_matrix_val, annot=True, fmt='d', cmap='Blues')\n",
    "plt.xlabel('Predicted label')\n",
    "plt.ylabel('True label')\n",
    "plt.title('Confusion Matrix for spam')\n",
    "plt.show()\n",
    "\n",
    "TN = con_matrix_val[0, 0]\n",
    "FP = con_matrix_val[0, 1]\n",
    "FN = con_matrix_val[1, 0]\n",
    "TP = con_matrix_val[1, 1]\n",
    "false_pos_rate = FP / (FP + TN) * 100\n",
    "print(f\"False Positive Rate: {false_pos_rate}%\")\n",
    "\n",
    "print(classification_report(y_val, y_val_predict))"
   ]
  },
  {
   "cell_type": "code",
   "execution_count": 89,
   "id": "8916b053-1dc5-4937-b02e-a76fdc1b2e36",
   "metadata": {},
   "outputs": [],
   "source": [
    "## naiveBayes\n",
    "naiveBayes = make_pipeline(CountVectorizer(), MultinomialNB())\n",
    "naiveBayes.fit(X_train, y_train)\n",
    "\n",
    "# Val predictions\n",
    "y_val_predict_2 = naiveBayes.predict(X_val)\n"
   ]
  },
  {
   "cell_type": "code",
   "execution_count": 90,
   "id": "b5ca2678-a95b-42ba-b1c2-0f8a5718a2d3",
   "metadata": {},
   "outputs": [
    {
     "name": "stdout",
     "output_type": "stream",
     "text": [
      "Accuracy of validation data for Naive Bayes: 0.9832535885167464\n",
      "Confusion Matrix:\n",
      "[[720   3]\n",
      " [ 11 102]]\n"
     ]
    },
    {
     "data": {
      "image/png": "[encoded data removed]",
      "text/plain": [
       "<Figure size 640x480 with 2 Axes>"
      ]
     },
     "metadata": {},
     "output_type": "display_data"
    },
    {
     "name": "stdout",
     "output_type": "stream",
     "text": [
      "False Positive Rate: 0.4149377593360996%\n",
      "              precision    recall  f1-score   support\n",
      "\n",
      "           0       0.98      1.00      0.99       723\n",
      "           1       0.97      0.90      0.94       113\n",
      "\n",
      "    accuracy                           0.98       836\n",
      "   macro avg       0.98      0.95      0.96       836\n",
      "weighted avg       0.98      0.98      0.98       836\n",
      "\n"
     ]
    }
   ],
   "source": [
    "accuracy_val_2 = accuracy_score(y_val, y_val_predict_2)\n",
    "print(f\"Accuracy of validation data for Naive Bayes: {accuracy_val_2}\")\n",
    "\n",
    "con_matrix_val_2 = confusion_matrix(y_val, y_val_predict_2)\n",
    "print('Confusion Matrix:')\n",
    "print(con_matrix_val_2)\n",
    "\n",
    "sns.heatmap(con_matrix_val_2, annot=True, fmt='d', cmap='Blues')\n",
    "plt.xlabel('Predicted label')\n",
    "plt.ylabel('True label')\n",
    "plt.title('Confusion Matrix for spam')\n",
    "plt.show()\n",
    "\n",
    "TN = con_matrix_val_2[0, 0]\n",
    "FP = con_matrix_val_2[0, 1]\n",
    "FN = con_matrix_val_2[1, 0]\n",
    "TP = con_matrix_val_2[1, 1]\n",
    "false_pos_rate = FP / (FP + TN) * 100\n",
    "print(f\"False Positive Rate: {false_pos_rate}%\")\n",
    "\n",
    "print(classification_report(y_val, y_val_predict_2))"
   ]
  },
  {
   "cell_type": "code",
   "execution_count": 91,
   "id": "33af7f45-6c87-4385-9fc9-230670df12eb",
   "metadata": {},
   "outputs": [],
   "source": [
    "## naiveBayes\n",
    "svm = make_pipeline(CountVectorizer(), SVC(kernel='linear'))\n",
    "svm.fit(X_train, y_train)\n",
    "\n",
    "# Val predictions\n",
    "y_val_predict_3 = svm.predict(X_val)\n"
   ]
  },
  {
   "cell_type": "code",
   "execution_count": 92,
   "id": "a9869a3f-2e3f-41a1-82e7-ba1a454b8acb",
   "metadata": {},
   "outputs": [
    {
     "name": "stdout",
     "output_type": "stream",
     "text": [
      "Accuracy of validation data for SVM: 0.9820574162679426\n",
      "Confusion Matrix:\n",
      "[[722   1]\n",
      " [ 14  99]]\n"
     ]
    },
    {
     "data": {
      "image/png": "[encoded data removed]",
      "text/plain": [
       "<Figure size 640x480 with 2 Axes>"
      ]
     },
     "metadata": {},
     "output_type": "display_data"
    },
    {
     "name": "stdout",
     "output_type": "stream",
     "text": [
      "False Positive Rate: 0.13831258644536654%\n",
      "              precision    recall  f1-score   support\n",
      "\n",
      "           0       0.98      1.00      0.99       723\n",
      "           1       0.99      0.88      0.93       113\n",
      "\n",
      "    accuracy                           0.98       836\n",
      "   macro avg       0.99      0.94      0.96       836\n",
      "weighted avg       0.98      0.98      0.98       836\n",
      "\n"
     ]
    }
   ],
   "source": [
    "accuracy_val_3 = accuracy_score(y_val, y_val_predict_3)\n",
    "print(f\"Accuracy of validation data for SVM: {accuracy_val_3}\")\n",
    "\n",
    "con_matrix_val_3 = confusion_matrix(y_val, y_val_predict_3)\n",
    "print('Confusion Matrix:')\n",
    "print(con_matrix_val_3)\n",
    "\n",
    "sns.heatmap(con_matrix_val_3, annot=True, fmt='d', cmap='Blues')\n",
    "plt.xlabel('Predicted label')\n",
    "plt.ylabel('True label')\n",
    "plt.title('Confusion Matrix for spam')\n",
    "plt.show()\n",
    "\n",
    "TN = con_matrix_val_3[0, 0]\n",
    "FP = con_matrix_val_3[0, 1]\n",
    "FN = con_matrix_val_3[1, 0]\n",
    "TP = con_matrix_val_3[1, 1]\n",
    "false_pos_rate = FP / (FP + TN) * 100\n",
    "print(f\"False Positive Rate: {false_pos_rate}%\")\n",
    "\n",
    "print(classification_report(y_val, y_val_predict_3))"
   ]
  },
  {
   "cell_type": "code",
   "execution_count": 93,
   "id": "c5399e29-6d74-4e45-a56c-9d571e97f9dc",
   "metadata": {},
   "outputs": [],
   "source": [
    "def test_model(model, X, Y):\n",
    "    y_pred = model.predict(X)\n",
    "\n",
    "    output = {\n",
    "        'Accuracy(Spam)': accuracy_score(Y, y_pred),\n",
    "        'Precision(Spam)': precision_score(Y, y_pred, pos_label=1),\n",
    "        'Recall(Spam)': recall_score(Y, y_pred, pos_label=1),\n",
    "        'F1 Score(Spam)': f1_score(Y, y_pred, pos_label=1)\n",
    "    }\n",
    "    TN, FP, _, _ = confusion_matrix(Y, y_pred).ravel()\n",
    "    output[\"FPR\"] = FP / (FP + TN) * 100\n",
    "    return output\n",
    "\n",
    "result_knn = test_model(knn, X_test, y_test)\n",
    "result_naiveBayes = test_model(naiveBayes, X_test, y_test)\n",
    "result_svm = test_model(svm, X_test, y_test)\n",
    "\n",
    "if result_knn[\"FPR\"] < result_naiveBayes[\"FPR\"] and result_knn[\"FPR\"] <  result_svm[\"FPR\"]:\n",
    "    best_result = result_knn\n",
    "    best_model = knn\n",
    "\n",
    "elif result_naiveBayes[\"FPR\"] < result_svm[\"FPR\"]:\n",
    "    best_result = result_naiveBayes\n",
    "    best_model = naiveBayes\n",
    "else:\n",
    "    best_result = result_svm\n",
    "    best_model = svm"
   ]
  },
  {
   "cell_type": "code",
   "execution_count": 94,
   "id": "3ce1f312-1be0-499a-91f4-da4317a0460f",
   "metadata": {},
   "outputs": [
    {
     "name": "stdout",
     "output_type": "stream",
     "text": [
      "{'Accuracy(Spam)': 0.9163679808841099, 'Precision(Spam)': 1.0, 'Recall(Spam)': 0.33962264150943394, 'F1 Score(Spam)': 0.5070422535211268, 'FPR': np.float64(0.0)}\n",
      "{'Accuracy(Spam)': 0.98805256869773, 'Precision(Spam)': 0.98, 'Recall(Spam)': 0.9245283018867925, 'F1 Score(Spam)': 0.9514563106796117, 'FPR': np.float64(0.27359781121751026)}\n",
      "{'Accuracy(Spam)': 0.980884109916368, 'Precision(Spam)': 0.9787234042553191, 'Recall(Spam)': 0.8679245283018868, 'F1 Score(Spam)': 0.92, 'FPR': np.float64(0.27359781121751026)}\n"
     ]
    }
   ],
   "source": [
    "print(result_knn)\n",
    "print(result_naiveBayes)\n",
    "print(result_svm)     "
   ]
  },
  {
   "cell_type": "code",
   "execution_count": 95,
   "id": "11dea26c-e6d2-4b5b-a3a9-aee8a2f592b0",
   "metadata": {},
   "outputs": [
    {
     "name": "stdout",
     "output_type": "stream",
     "text": [
      "Best model is: Pipeline(steps=[('countvectorizer', CountVectorizer()),\n",
      "                ('multinomialnb', MultinomialNB())])\n"
     ]
    }
   ],
   "source": [
    "if result_knn[\"F1 Score(Spam)\"] > result_naiveBayes[\"F1 Score(Spam)\"] and result_knn[\"F1 Score(Spam)\"] >  result_svm[\"F1 Score(Spam)\"]:\n",
    "    best_result = result_knn\n",
    "    best_model = knn\n",
    "\n",
    "elif result_naiveBayes[\"F1 Score(Spam)\"] > result_svm[\"F1 Score(Spam)\"]:\n",
    "    best_result = result_naiveBayes\n",
    "    best_model = naiveBayes\n",
    "else:\n",
    "    best_result = result_svm\n",
    "    best_model = svm\n",
    "\n",
    "print(\"Best model is:\", best_model)"
   ]
  },
  {
   "cell_type": "code",
   "execution_count": 96,
   "id": "38446c46-3472-40d4-b845-72aa6982c4f1",
   "metadata": {},
   "outputs": [],
   "source": [
    "import pickle\n",
    "\n",
    "# save the model\n",
    "filename = 'best_model.pkl'\n",
    "pickle.dump(best_model, open(filename, 'wb'))"
   ]
  }
 ],
 "metadata": {
  "kernelspec": {
   "display_name": "Python 3 (ipykernel)",
   "language": "python",
   "name": "python3"
  },
  "language_info": {
   "codemirror_mode": {
    "name": "ipython",
    "version": 3
   },
   "file_extension": ".py",
   "mimetype": "text/x-python",
   "name": "python",
   "nbconvert_exporter": "python",
   "pygments_lexer": "ipython3",
   "version": "3.9.6"
  }
 },
 "nbformat": 4,
 "nbformat_minor": 5
}
